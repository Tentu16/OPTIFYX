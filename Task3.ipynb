{
  "nbformat": 4,
  "nbformat_minor": 0,
  "metadata": {
    "colab": {
      "provenance": [],
      "authorship_tag": "ABX9TyNncJ+q/mFWi9fxQvcYanv+",
      "include_colab_link": true
    },
    "kernelspec": {
      "name": "python3",
      "display_name": "Python 3"
    },
    "language_info": {
      "name": "python"
    }
  },
  "cells": [
    {
      "cell_type": "markdown",
      "metadata": {
        "id": "view-in-github",
        "colab_type": "text"
      },
      "source": [
        "<a href=\"https://colab.research.google.com/github/Tentu16/OPTIFYX/blob/main/Task3.ipynb\" target=\"_parent\"><img src=\"https://colab.research.google.com/assets/colab-badge.svg\" alt=\"Open In Colab\"/></a>"
      ]
    },
    {
      "cell_type": "code",
      "execution_count": 1,
      "metadata": {
        "colab": {
          "base_uri": "https://localhost:8080/"
        },
        "id": "jWaME5Q0h1hK",
        "outputId": "ffedc247-06f6-47d8-d9ae-a2830d495878"
      },
      "outputs": [
        {
          "output_type": "stream",
          "name": "stdout",
          "text": [
            "Content-Based Recommendations for 'Chair':\n",
            "['Bookshelf', 'Table', 'Sofa']\n",
            "\n",
            "Collaborative Filtering Recommendations for User 1:\n",
            "['Sofa', 'Lamp', 'Bookshelf']\n"
          ]
        }
      ],
      "source": [
        "import pandas as pd\n",
        "import numpy as np\n",
        "from sklearn.metrics.pairwise import cosine_similarity\n",
        "from sklearn.feature_extraction.text import CountVectorizer\n",
        "\n",
        "products = pd.DataFrame({\n",
        "    'product_id': [1, 2, 3, 4, 5],\n",
        "    'product_name': ['Chair', 'Table', 'Sofa', 'Lamp', 'Bookshelf'],\n",
        "    'category': ['Furniture', 'Furniture', 'Furniture', 'Lighting', 'Furniture'],\n",
        "    'description': [\n",
        "        'A comfortable wooden chair',\n",
        "        'A large dining table',\n",
        "        'A modern sofa with cushions',\n",
        "        'A stylish lamp for reading',\n",
        "        'A wooden bookshelf with storage'\n",
        "    ]\n",
        "})\n",
        "\n",
        "user_purchases = pd.DataFrame({\n",
        "    'user_id': [1, 1, 2, 3, 3],\n",
        "    'product_id': [1, 2, 3, 4, 5]\n",
        "})\n",
        "\n",
        "def recommend_content_based(product_id, products, top_n=3):\n",
        "    vectorizer = CountVectorizer()\n",
        "    description_matrix = vectorizer.fit_transform(products['description'])\n",
        "\n",
        "    similarity = cosine_similarity(description_matrix)\n",
        "\n",
        "    product_index = products[products['product_id'] == product_id].index[0]\n",
        "    similarity_scores = list(enumerate(similarity[product_index]))\n",
        "\n",
        "    similar_products = sorted(similarity_scores, key=lambda x: x[1], reverse=True)\n",
        "    similar_products = [products.iloc[i[0]]['product_name'] for i in similar_products[1:top_n+1]]\n",
        "    return similar_products\n",
        "\n",
        "print(\"Content-Based Recommendations for 'Chair':\")\n",
        "print(recommend_content_based(1, products))\n",
        "\n",
        "def recommend_collaborative(user_id, user_purchases, products, top_n=3):\n",
        "\n",
        "    user_item_matrix = user_purchases.pivot_table(index='user_id', columns='product_id', aggfunc='size', fill_value=0)\n",
        "\n",
        "    user_similarity = cosine_similarity(user_item_matrix)\n",
        "\n",
        "    user_index = user_purchases['user_id'].unique().tolist().index(user_id)\n",
        "    similar_users = list(enumerate(user_similarity[user_index]))\n",
        "    similar_users = sorted(similar_users, key=lambda x: x[1], reverse=True)[1:]\n",
        "\n",
        "    similar_user_ids = [user_purchases['user_id'].unique()[i[0]] for i in similar_users[:top_n]]\n",
        "    similar_user_purchases = user_purchases[user_purchases['user_id'].isin(similar_user_ids)]\n",
        "    recommended_products = similar_user_purchases['product_id'].unique()\n",
        "\n",
        "    user_products = user_purchases[user_purchases['user_id'] == user_id]['product_id'].unique()\n",
        "    final_recommendations = [products[products['product_id'] == pid]['product_name'].values[0]\n",
        "                             for pid in recommended_products if pid not in user_products]\n",
        "    return final_recommendations\n",
        "\n",
        "print(\"\\nCollaborative Filtering Recommendations for User 1:\")\n",
        "print(recommend_collaborative(1, user_purchases, products))"
      ]
    }
  ]
}