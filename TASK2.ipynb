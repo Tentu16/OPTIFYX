{
  "nbformat": 4,
  "nbformat_minor": 0,
  "metadata": {
    "colab": {
      "provenance": [],
      "authorship_tag": "ABX9TyNn0usbho8i5Qar4XdULtGu",
      "include_colab_link": true
    },
    "kernelspec": {
      "name": "python3",
      "display_name": "Python 3"
    },
    "language_info": {
      "name": "python"
    }
  },
  "cells": [
    {
      "cell_type": "markdown",
      "metadata": {
        "id": "view-in-github",
        "colab_type": "text"
      },
      "source": [
        "<a href=\"https://colab.research.google.com/github/Tentu16/OPTIFYX/blob/main/TASK2.ipynb\" target=\"_parent\"><img src=\"https://colab.research.google.com/assets/colab-badge.svg\" alt=\"Open In Colab\"/></a>"
      ]
    },
    {
      "cell_type": "code",
      "source": [
        "import random\n",
        "import string\n",
        "\n",
        "def generate_password(length, include_letters, include_numbers, include_symbols):\n",
        "    \"\"\"Generates a random password based on user preferences.\"\"\"\n",
        "    if length < 1:\n",
        "        raise ValueError(\"Password length must be at least 1.\")\n",
        "    char_pool = \"\"\n",
        "    if include_letters:\n",
        "        char_pool += string.ascii_letters\n",
        "    if include_numbers:\n",
        "        char_pool += string.digits\n",
        "    if include_symbols:\n",
        "        char_pool += string.punctuation\n",
        "\n",
        "    if not char_pool:\n",
        "        raise ValueError(\"You must include at least one type of character (letters, numbers, symbols).\")\n",
        "\n",
        "    password = ''.join(random.choice(char_pool) for _ in range(length))\n",
        "    return password\n",
        "\n",
        "def main():\n",
        "    print(\"Welcome to the Random Password Generator!\")\n",
        "    try:\n",
        "        length = int(input(\"Enter the desired password length: \"))\n",
        "        include_letters = input(\"Include letters? (yes/no): \").strip().lower() == \"yes\"\n",
        "        include_numbers = input(\"Include numbers? (yes/no): \").strip().lower() == \"yes\"\n",
        "        include_symbols = input(\"Include symbols? (yes/no): \").strip().lower() == \"yes\"\n",
        "\n",
        "        password = generate_password(length, include_letters, include_numbers, include_symbols)\n",
        "        print(f\"\\nYour generated password is: {password}\")\n",
        "    except ValueError as e:\n",
        "        print(f\"Error: {e}\")\n",
        "    except Exception as e:\n",
        "        print(f\"An unexpected error occurred: {e}\")\n",
        "\n",
        "if __name__ == \"__main__\":\n",
        "    main()"
      ],
      "metadata": {
        "colab": {
          "base_uri": "https://localhost:8080/"
        },
        "id": "dzCWT5tHZPqJ",
        "outputId": "5384ba36-2384-4c7a-bb69-0ef8be163f1c"
      },
      "execution_count": 1,
      "outputs": [
        {
          "output_type": "stream",
          "name": "stdout",
          "text": [
            "Welcome to the Random Password Generator!\n",
            "Enter the desired password length: 12\n",
            "Include letters? (yes/no): yes\n",
            "Include numbers? (yes/no): yes\n",
            "Include symbols? (yes/no): yes\n",
            "\n",
            "Your generated password is: P7Ju<R81Kc]#\n"
          ]
        }
      ]
    }
  ]
}