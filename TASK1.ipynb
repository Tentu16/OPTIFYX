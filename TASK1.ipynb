{
  "nbformat": 4,
  "nbformat_minor": 0,
  "metadata": {
    "colab": {
      "provenance": [],
      "authorship_tag": "ABX9TyPCTj63DvIv4yJkUfk1rWWX",
      "include_colab_link": true
    },
    "kernelspec": {
      "name": "python3",
      "display_name": "Python 3"
    },
    "language_info": {
      "name": "python"
    }
  },
  "cells": [
    {
      "cell_type": "markdown",
      "metadata": {
        "id": "view-in-github",
        "colab_type": "text"
      },
      "source": [
        "<a href=\"https://colab.research.google.com/github/Tentu16/OPTIFYX/blob/main/TASK1.ipynb\" target=\"_parent\"><img src=\"https://colab.research.google.com/assets/colab-badge.svg\" alt=\"Open In Colab\"/></a>"
      ]
    },
    {
      "cell_type": "code",
      "execution_count": 1,
      "metadata": {
        "colab": {
          "base_uri": "https://localhost:8080/"
        },
        "id": "D0w4nBFcXwfb",
        "outputId": "eef5e5c3-21d2-4867-f3d2-eebe27e70f81"
      },
      "outputs": [
        {
          "output_type": "stream",
          "name": "stdout",
          "text": [
            "Welcome to the BMI Calculator!\n",
            "Enter your weight in kilograms: 65\n",
            "Enter your height in meters: 1.557\n",
            "\n",
            "Your BMI is: 26.81\n",
            "You are classified as: Overweight\n"
          ]
        }
      ],
      "source": [
        "def calculate_bmi():\n",
        "    try:\n",
        "        weight = float(input(\"Enter your weight in kilograms: \"))\n",
        "        height = float(input(\"Enter your height in meters: \"))\n",
        "        bmi = weight / (height ** 2)\n",
        "\n",
        "        if bmi < 18.5:\n",
        "            category = \"Underweight\"\n",
        "        elif 18.5 <= bmi < 24.9:\n",
        "            category = \"Normal weight\"\n",
        "        elif 25 <= bmi < 29.9:\n",
        "            category = \"Overweight\"\n",
        "        else:\n",
        "            category = \"Obesity\"\n",
        "\n",
        "        print(f\"\\nYour BMI is: {bmi:.2f}\")\n",
        "        print(f\"You are classified as: {category}\")\n",
        "    except ValueError:\n",
        "        print(\"Invalid input. Please enter numeric values for weight and height.\")\n",
        "\n",
        "if __name__ == \"__main__\":\n",
        "    print(\"Welcome to the BMI Calculator!\")\n",
        "    calculate_bmi()"
      ]
    }
  ]
}